{
 "cells": [
  {
   "cell_type": "markdown",
   "metadata": {},
   "source": [
    "**Create a Hangman Game**\n",
    "\n",
    "Click <a href=\"https://en.wikipedia.org/wiki/Hangman_(game)\" target=\"_blank\">here</a> to learn how to play, or to simply get a refresher for how the game works.\n",
    "\n",
    "Create an object-orient program that works exactly as the Wikipedia page suggests.\n",
    "\n",
    "Given, are all of the classes to build out the game. While extremely helpful, please note that this may be an ineffective method of building your program, because it hinders how one you would naturally build a program in your own way if they were left to figure it out for themselves.\n",
    "\n",
    "**How to build the program**\n",
    "* When you start the game, you will need to select a random word from a list of at least 10 words (You have full control over which words you want to use for you program). This will be your secret word. Your secret word will be represented in the program as a group of underscores. For as long as the word is, you should also have that many underscores. \n",
    "\n",
    "* Once the word is selected, your game will commence. Perform a Google search to figure out how to select a random word from a list using Python.<br>\n",
    "**Hint** There's package you can import into your application that does this for you.\n",
    "\n",
    "* The end user will have a total of 8 chances to guess the correct letter from the secret word. If the end user makes 8 incorrect guesses, the game will end.\n",
    "\n",
    "* As you guess the correct letters, the letters you have guess will then take place of the underscores that letter represents. <br>\n",
    "**For Example**: If your secret word is 'watermelon' and  so far you have guessed the letters 'a' and 'e', the word you're trying to guess will appear as follows: _ a _ e _ _ e _ _ _.<br>\n",
    "**Keep in mind** that if you guess a letter that appears more than once in your secret word, make sure that the letter is populated anywhere that letter would be."
   ]
  },
  {
   "cell_type": "code",
   "execution_count": null,
   "metadata": {},
   "outputs": [
    {
     "name": "stdout",
     "output_type": "stream",
     "text": [
      "Welcome to Laura's Python version of hangman! Guess the word. The category is animals! You have 8 attempts to guess it right or GameOver!\n",
      "The word has 8 letters.\n"
     ]
    }
   ],
   "source": [
    "# Object-Oriented Programming Method\n",
    "\n",
    "import random\n",
    "def get_word ():\n",
    "    words = [\"cats\", \"dog\", \"hamster\",\"snake\",\"rabbit\",\"rat\",\"cow\",\"horse\",\"chicken\",\"elephant\"]\n",
    "    print(\"Welcome to Laura's Python version of hangman! Guess the word. The category is animals! You have 8 attempts to guess it right or GameOver!\")\n",
    "\n",
    "    return random.choice(words).lower()\n",
    "        #here I used .lower to compare Lowercase words to lowercase words\n",
    "        #random.choice is picking the element wihtin the sequence\n",
    "\n",
    "#Create the Object for Hangman\n",
    "\n",
    "\n",
    "def check(word,guesses,guess):\n",
    "    guess = guess.lower()\n",
    "    status = ''\n",
    "    i=0\n",
    "    matches=0\n",
    "    for letter in word:\n",
    "        if letter in guesses:\n",
    "            status +=letter\n",
    "        else: \n",
    "            status += \" _ \"\n",
    "        if letter==guess:\n",
    "            matches +=1\n",
    "            \n",
    "    if matches>1:\n",
    "        print('Yes! The word contains',matches,'\"' + guess + '\"' + 's')\n",
    "    elif matches==1:\n",
    "        print('yes, the word contains the letter \"' + guess + '\"')\n",
    "    else:\n",
    "        print ('Sorry! The word does not contain the letter \"'+guess+ '\"')\n",
    "    return status\n",
    "\n",
    "# Create main function here - This will run our program and create/instantiate our Hangman class\n",
    "def main():\n",
    "    word=get_word()\n",
    "    guesses = []         #we are going to keep track of the users' guesses in this list. \n",
    "    guessed= False\n",
    "    print(\"The word has\", len(word),\"letters.\")\n",
    "    while not guessed:    #while \"guessed\" is false, assign please enter letter\n",
    "        text=\"Please enter one letter or a {}-letter word.\".format(len(word))\n",
    "        guess= input(text) #we will get input from the user here, and assign that to variable \"guess\"\n",
    "        guess=guess.lower() \n",
    "        if guess in guesses: #checks the \"guesses list and asks, does this guess match one of the missing letters? If it does, we will print:\n",
    "            print('You already guessed \"' +  guess  + '\"')\n",
    "        elif len(guess) ==len(word): #if the user inputs a word with the same number of letters, but the answer is incorrect\n",
    "            guesses.append (guess)\n",
    "            if guess == word:\n",
    "                  guessed= True\n",
    "            else:\n",
    "                print (\"Sorry that is not correct.\")\n",
    "        elif len(guess) ==1: #when the user only inputs one letter guess\n",
    "            guesses.append(guess) #this will append from \"guesses\"\n",
    "            result= check(word,guesses,guess)\n",
    "            if result == word:\n",
    "                guessed= True \n",
    "            \n",
    "            else:\n",
    "                print(result)\n",
    "        \n",
    "        else:\n",
    "            print(\"Entry is invalid.\")\n",
    "                  \n",
    "    print(\"Yes the word is\", word+ \"!You got it in\", len(guesses), \"tries.\")\n",
    "                  \n",
    "\n",
    "main()\n"
   ]
  },
  {
   "cell_type": "code",
   "execution_count": null,
   "metadata": {},
   "outputs": [],
   "source": []
  }
 ],
 "metadata": {
  "kernelspec": {
   "display_name": "Python 3",
   "language": "python",
   "name": "python3"
  },
  "language_info": {
   "codemirror_mode": {
    "name": "ipython",
    "version": 3
   },
   "file_extension": ".py",
   "mimetype": "text/x-python",
   "name": "python",
   "nbconvert_exporter": "python",
   "pygments_lexer": "ipython3",
   "version": "3.7.3"
  }
 },
 "nbformat": 4,
 "nbformat_minor": 2
}
